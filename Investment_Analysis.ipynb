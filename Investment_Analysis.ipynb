{
 "cells": [
  {
   "cell_type": "code",
   "execution_count": 1,
   "metadata": {},
   "outputs": [],
   "source": [
    "import pandas as pd\n",
    "import numpy as np\n",
    "import matplotlib.pyplot as plt\n",
    "import seaborn as sns"
   ]
  },
  {
   "cell_type": "code",
   "execution_count": 2,
   "metadata": {},
   "outputs": [],
   "source": [
    "companies = pd.read_csv(\"companies.txt\", sep=\"\\t\", encoding = \"ISO-8859-1\")\n",
    "rounds2   = pd.read_csv(\"rounds2.csv\" , encoding = \"ISO-8859-1\")\n",
    "mapping   = pd.read_csv(\"mapping.csv\" , encoding = \"ISO-8859-1\")"
   ]
  },
  {
   "cell_type": "code",
   "execution_count": 3,
   "metadata": {},
   "outputs": [],
   "source": [
    "#Converting unique variable to lowercase in both dataframes companies & rounds2\n",
    "companies['permalink']= companies['permalink'].str.lower()\n",
    "rounds2['company_permalink']= rounds2['company_permalink'].str.lower()"
   ]
  },
  {
   "cell_type": "markdown",
   "metadata": {},
   "source": [
    "CHECKPOINT 1"
   ]
  },
  {
   "cell_type": "code",
   "execution_count": 4,
   "metadata": {},
   "outputs": [
    {
     "data": {
      "text/plain": [
       "permalink        66368\n",
       "name             66367\n",
       "homepage_url     61310\n",
       "category_list    63220\n",
       "status           66368\n",
       "country_code     59410\n",
       "state_code       57821\n",
       "region           58338\n",
       "city             58340\n",
       "founded_at       51147\n",
       "dtype: int64"
      ]
     },
     "execution_count": 4,
     "metadata": {},
     "output_type": "execute_result"
    }
   ],
   "source": [
    "companies.count()"
   ]
  },
  {
   "cell_type": "code",
   "execution_count": 5,
   "metadata": {},
   "outputs": [
    {
     "data": {
      "text/plain": [
       "permalink            0\n",
       "name                 1\n",
       "homepage_url      5058\n",
       "category_list     3148\n",
       "status               0\n",
       "country_code      6958\n",
       "state_code        8547\n",
       "region            8030\n",
       "city              8028\n",
       "founded_at       15221\n",
       "dtype: int64"
      ]
     },
     "execution_count": 5,
     "metadata": {},
     "output_type": "execute_result"
    }
   ],
   "source": [
    "companies.isnull().sum()"
   ]
  },
  {
   "cell_type": "code",
   "execution_count": 6,
   "metadata": {},
   "outputs": [
    {
     "data": {
      "text/plain": [
       "company_permalink          114949\n",
       "funding_round_permalink    114949\n",
       "funding_round_type         114949\n",
       "funding_round_code          31140\n",
       "funded_at                  114949\n",
       "raised_amount_usd           94959\n",
       "dtype: int64"
      ]
     },
     "execution_count": 6,
     "metadata": {},
     "output_type": "execute_result"
    }
   ],
   "source": [
    "rounds2.count()"
   ]
  },
  {
   "cell_type": "code",
   "execution_count": 7,
   "metadata": {},
   "outputs": [
    {
     "data": {
      "text/plain": [
       "company_permalink              0\n",
       "funding_round_permalink        0\n",
       "funding_round_type             0\n",
       "funding_round_code         83809\n",
       "funded_at                      0\n",
       "raised_amount_usd          19990\n",
       "dtype: int64"
      ]
     },
     "execution_count": 7,
     "metadata": {},
     "output_type": "execute_result"
    }
   ],
   "source": [
    "rounds2.isnull().sum()"
   ]
  },
  {
   "cell_type": "code",
   "execution_count": 8,
   "metadata": {},
   "outputs": [
    {
     "data": {
      "text/plain": [
       "permalink        66368\n",
       "name             66102\n",
       "homepage_url     61191\n",
       "category_list    27296\n",
       "status               4\n",
       "country_code       137\n",
       "state_code         311\n",
       "region            1092\n",
       "city              5111\n",
       "founded_at        3978\n",
       "dtype: int64"
      ]
     },
     "execution_count": 8,
     "metadata": {},
     "output_type": "execute_result"
    }
   ],
   "source": [
    "companies.nunique()"
   ]
  },
  {
   "cell_type": "code",
   "execution_count": 9,
   "metadata": {},
   "outputs": [
    {
     "data": {
      "text/plain": [
       "company_permalink           66370\n",
       "funding_round_permalink    114949\n",
       "funding_round_type             14\n",
       "funding_round_code              8\n",
       "funded_at                    5033\n",
       "raised_amount_usd           22095\n",
       "dtype: int64"
      ]
     },
     "execution_count": 9,
     "metadata": {},
     "output_type": "execute_result"
    }
   ],
   "source": [
    "rounds2.nunique()"
   ]
  },
  {
   "cell_type": "code",
   "execution_count": 10,
   "metadata": {},
   "outputs": [],
   "source": [
    "#Merging rounds2 & companies dataframe\n",
    "master_frame = pd.merge(rounds2, companies, how='left', left_on='company_permalink', right_on='permalink')"
   ]
  },
  {
   "cell_type": "code",
   "execution_count": 11,
   "metadata": {},
   "outputs": [
    {
     "data": {
      "text/plain": [
       "company_permalink          114949\n",
       "funding_round_permalink    114949\n",
       "funding_round_type         114949\n",
       "funding_round_code          31140\n",
       "funded_at                  114949\n",
       "raised_amount_usd           94959\n",
       "permalink                  114942\n",
       "name                       114941\n",
       "homepage_url               108810\n",
       "category_list              111535\n",
       "status                     114942\n",
       "country_code               106271\n",
       "state_code                 104003\n",
       "region                     104782\n",
       "city                       104785\n",
       "founded_at                  94422\n",
       "dtype: int64"
      ]
     },
     "execution_count": 11,
     "metadata": {},
     "output_type": "execute_result"
    }
   ],
   "source": [
    "master_frame.count()"
   ]
  },
  {
   "cell_type": "code",
   "execution_count": 12,
   "metadata": {},
   "outputs": [
    {
     "data": {
      "text/plain": [
       "company_permalink              0\n",
       "funding_round_permalink        0\n",
       "funding_round_type             0\n",
       "funding_round_code         83809\n",
       "funded_at                      0\n",
       "raised_amount_usd          19990\n",
       "permalink                      7\n",
       "name                           8\n",
       "homepage_url                6139\n",
       "category_list               3414\n",
       "status                         7\n",
       "country_code                8678\n",
       "state_code                 10946\n",
       "region                     10167\n",
       "city                       10164\n",
       "founded_at                 20527\n",
       "dtype: int64"
      ]
     },
     "execution_count": 12,
     "metadata": {},
     "output_type": "execute_result"
    }
   ],
   "source": [
    "master_frame.isnull().sum()"
   ]
  },
  {
   "cell_type": "markdown",
   "metadata": {},
   "source": [
    "CHECKPOINT 2"
   ]
  },
  {
   "cell_type": "code",
   "execution_count": 13,
   "metadata": {},
   "outputs": [
    {
     "data": {
      "text/plain": [
       "company_permalink           0.00\n",
       "funding_round_permalink     0.00\n",
       "funding_round_type          0.00\n",
       "funding_round_code         72.91\n",
       "funded_at                   0.00\n",
       "raised_amount_usd          17.39\n",
       "permalink                   0.01\n",
       "name                        0.01\n",
       "homepage_url                5.34\n",
       "category_list               2.97\n",
       "status                      0.01\n",
       "country_code                7.55\n",
       "state_code                  9.52\n",
       "region                      8.84\n",
       "city                        8.84\n",
       "founded_at                 17.86\n",
       "dtype: float64"
      ]
     },
     "execution_count": 13,
     "metadata": {},
     "output_type": "execute_result"
    }
   ],
   "source": [
    "#Checking % of missing values (only removing rows if mmissing is more than 30%)\n",
    "round(100*(master_frame.isnull().sum()/len(master_frame.index)), 2)"
   ]
  },
  {
   "cell_type": "code",
   "execution_count": 14,
   "metadata": {},
   "outputs": [],
   "source": [
    "# Removing all the rows where 'raised_amount_usd' is null. \n",
    "master_frame = master_frame[pd.notnull(master_frame['raised_amount_usd'])]"
   ]
  },
  {
   "cell_type": "code",
   "execution_count": 15,
   "metadata": {},
   "outputs": [
    {
     "data": {
      "text/plain": [
       "company_permalink          94959\n",
       "funding_round_permalink    94959\n",
       "funding_round_type         94959\n",
       "funding_round_code         28169\n",
       "funded_at                  94959\n",
       "raised_amount_usd          94959\n",
       "permalink                  94958\n",
       "name                       94957\n",
       "homepage_url               90626\n",
       "category_list              93914\n",
       "status                     94958\n",
       "country_code               89108\n",
       "state_code                 87355\n",
       "region                     87911\n",
       "city                       87914\n",
       "founded_at                 78992\n",
       "dtype: int64"
      ]
     },
     "execution_count": 15,
     "metadata": {},
     "output_type": "execute_result"
    }
   ],
   "source": [
    "master_frame.count()"
   ]
  },
  {
   "cell_type": "code",
   "execution_count": 16,
   "metadata": {},
   "outputs": [],
   "source": [
    "# Removing MISSING value rows for the country_code column as analysis will be based on countries also.\n",
    "master_frame = master_frame[pd.notnull(master_frame['country_code'])]"
   ]
  },
  {
   "cell_type": "code",
   "execution_count": 17,
   "metadata": {},
   "outputs": [
    {
     "data": {
      "text/plain": [
       "company_permalink           0.00\n",
       "funding_round_permalink     0.00\n",
       "funding_round_type          0.00\n",
       "funding_round_code         69.77\n",
       "funded_at                   0.00\n",
       "raised_amount_usd           0.00\n",
       "permalink                   0.00\n",
       "name                        0.00\n",
       "homepage_url                3.79\n",
       "category_list               0.65\n",
       "status                      0.00\n",
       "country_code                0.00\n",
       "state_code                  1.97\n",
       "region                      1.34\n",
       "city                        1.34\n",
       "founded_at                 15.33\n",
       "dtype: float64"
      ]
     },
     "execution_count": 17,
     "metadata": {},
     "output_type": "execute_result"
    }
   ],
   "source": [
    "round(100*(master_frame.isnull().sum()/len(master_frame.index)), 2)"
   ]
  },
  {
   "cell_type": "code",
   "execution_count": 18,
   "metadata": {},
   "outputs": [],
   "source": [
    "# Removing 'funding_round_code' column as it has ~70% missing values\n",
    "master_frame = master_frame.drop('funding_round_code', axis=1)"
   ]
  },
  {
   "cell_type": "code",
   "execution_count": 19,
   "metadata": {},
   "outputs": [
    {
     "data": {
      "text/plain": [
       "funding_round_type\n",
       "post_ipo_debt            1.694518e+08\n",
       "secondary_market         8.152720e+07\n",
       "private_equity           7.361856e+07\n",
       "post_ipo_equity          6.601879e+07\n",
       "debt_financing           1.718640e+07\n",
       "undisclosed              1.585108e+07\n",
       "venture                  1.173578e+07\n",
       "grant                    4.508473e+06\n",
       "product_crowdfunding     1.489682e+06\n",
       "convertible_note         1.331938e+06\n",
       "angel                    9.685599e+05\n",
       "seed                     7.481045e+05\n",
       "equity_crowdfunding      5.109480e+05\n",
       "non_equity_assistance    4.714459e+05\n",
       "Name: raised_amount_usd, dtype: float64"
      ]
     },
     "execution_count": 19,
     "metadata": {},
     "output_type": "execute_result"
    }
   ],
   "source": [
    "#Getting average investment amount for each funding type\n",
    "master_frame.groupby('funding_round_type')['raised_amount_usd'].mean().sort_values(ascending=False)"
   ]
  },
  {
   "cell_type": "code",
   "execution_count": 20,
   "metadata": {},
   "outputs": [
    {
     "data": {
      "text/plain": [
       "funding_round_type\n",
       "venture                  48111\n",
       "seed                     21233\n",
       "debt_financing            6533\n",
       "angel                     4427\n",
       "grant                     1979\n",
       "private_equity            1835\n",
       "undisclosed               1352\n",
       "convertible_note          1326\n",
       "equity_crowdfunding       1136\n",
       "post_ipo_equity            601\n",
       "product_crowdfunding       332\n",
       "post_ipo_debt              151\n",
       "non_equity_assistance       63\n",
       "secondary_market            29\n",
       "Name: raised_amount_usd, dtype: int64"
      ]
     },
     "execution_count": 20,
     "metadata": {},
     "output_type": "execute_result"
    }
   ],
   "source": [
    "#Getting number of investments for each funding type\n",
    "master_frame.groupby('funding_round_type')['raised_amount_usd'].count().sort_values(ascending=False)"
   ]
  },
  {
   "cell_type": "markdown",
   "metadata": {},
   "source": [
    "CHECKPOINT 3"
   ]
  },
  {
   "cell_type": "code",
   "execution_count": 21,
   "metadata": {},
   "outputs": [
    {
     "data": {
      "text/html": [
       "<div>\n",
       "<style scoped>\n",
       "    .dataframe tbody tr th:only-of-type {\n",
       "        vertical-align: middle;\n",
       "    }\n",
       "\n",
       "    .dataframe tbody tr th {\n",
       "        vertical-align: top;\n",
       "    }\n",
       "\n",
       "    .dataframe thead th {\n",
       "        text-align: right;\n",
       "    }\n",
       "</style>\n",
       "<table border=\"1\" class=\"dataframe\">\n",
       "  <thead>\n",
       "    <tr style=\"text-align: right;\">\n",
       "      <th></th>\n",
       "      <th>country_code</th>\n",
       "      <th>raised_amount_usd</th>\n",
       "    </tr>\n",
       "  </thead>\n",
       "  <tbody>\n",
       "    <tr>\n",
       "      <th>0</th>\n",
       "      <td>USA</td>\n",
       "      <td>4.225108e+11</td>\n",
       "    </tr>\n",
       "    <tr>\n",
       "      <th>1</th>\n",
       "      <td>CHN</td>\n",
       "      <td>3.983542e+10</td>\n",
       "    </tr>\n",
       "    <tr>\n",
       "      <th>2</th>\n",
       "      <td>GBR</td>\n",
       "      <td>2.024563e+10</td>\n",
       "    </tr>\n",
       "    <tr>\n",
       "      <th>3</th>\n",
       "      <td>IND</td>\n",
       "      <td>1.439186e+10</td>\n",
       "    </tr>\n",
       "    <tr>\n",
       "      <th>4</th>\n",
       "      <td>CAN</td>\n",
       "      <td>9.583332e+09</td>\n",
       "    </tr>\n",
       "    <tr>\n",
       "      <th>5</th>\n",
       "      <td>FRA</td>\n",
       "      <td>7.259537e+09</td>\n",
       "    </tr>\n",
       "    <tr>\n",
       "      <th>6</th>\n",
       "      <td>ISR</td>\n",
       "      <td>6.907515e+09</td>\n",
       "    </tr>\n",
       "    <tr>\n",
       "      <th>7</th>\n",
       "      <td>DEU</td>\n",
       "      <td>6.346960e+09</td>\n",
       "    </tr>\n",
       "    <tr>\n",
       "      <th>8</th>\n",
       "      <td>JPN</td>\n",
       "      <td>3.363677e+09</td>\n",
       "    </tr>\n",
       "  </tbody>\n",
       "</table>\n",
       "</div>"
      ],
      "text/plain": [
       "  country_code  raised_amount_usd\n",
       "0          USA       4.225108e+11\n",
       "1          CHN       3.983542e+10\n",
       "2          GBR       2.024563e+10\n",
       "3          IND       1.439186e+10\n",
       "4          CAN       9.583332e+09\n",
       "5          FRA       7.259537e+09\n",
       "6          ISR       6.907515e+09\n",
       "7          DEU       6.346960e+09\n",
       "8          JPN       3.363677e+09"
      ]
     },
     "execution_count": 21,
     "metadata": {},
     "output_type": "execute_result"
    }
   ],
   "source": [
    "#Create Top9 dataframe containing top 9 countries by total investment amount\n",
    "df = round(master_frame[master_frame['funding_round_type'] == 'venture'].groupby(['country_code'])['raised_amount_usd'].sum(),2).sort_values(ascending=False).to_frame().reset_index()\n",
    "top9=df[0:9]\n",
    "top9"
   ]
  },
  {
   "cell_type": "markdown",
   "metadata": {},
   "source": [
    "CHECKPOINT 4"
   ]
  },
  {
   "cell_type": "code",
   "execution_count": 22,
   "metadata": {},
   "outputs": [],
   "source": [
    "#Clening category list values in mapping file\n",
    "mapping['category_list'] = mapping['category_list'].str.replace('0','na')"
   ]
  },
  {
   "cell_type": "code",
   "execution_count": 23,
   "metadata": {},
   "outputs": [],
   "source": [
    "#changing column headers to column values using melt function in mapping file\n",
    "#removing Blanks sector\n",
    "mapping = pd.melt(mapping, id_vars=['category_list'], value_vars= ['Automotive & Sports',\n",
    "       'Cleantech / Semiconductors', 'Entertainment', 'Health',\n",
    "       'Manufacturing', 'News, Search and Messaging', 'Others',\n",
    "       'Social, Finance, Analytics, Advertising'], var_name=\"main_sector\")\n",
    "mapping = mapping[mapping['value']== 1]"
   ]
  },
  {
   "cell_type": "code",
   "execution_count": 24,
   "metadata": {},
   "outputs": [],
   "source": [
    "#extracting primary sector\n",
    "master_frame[['primary_sector','sec_sector']]= master_frame['category_list'].str.split('|',1,expand=True)"
   ]
  },
  {
   "cell_type": "code",
   "execution_count": 25,
   "metadata": {},
   "outputs": [],
   "source": [
    "#merging master_frame with mapping to get a main_sector mapped with primary to create a new dataframe sector_analysis which will be used in further analysis\n",
    "sector_analysis = pd.merge(master_frame, mapping, how=\"inner\", left_on=\"primary_sector\", right_on=\"category_list\")\n",
    "sector_analysis.drop(columns=['value','category_list_y'], inplace=True)"
   ]
  },
  {
   "cell_type": "markdown",
   "metadata": {},
   "source": [
    "CHECKPOINT 5"
   ]
  },
  {
   "cell_type": "code",
   "execution_count": 26,
   "metadata": {},
   "outputs": [],
   "source": [
    "#Creating 3 dataframes for each of top 3 countries for funding type \"venture\" & investment amount between $5 Million & $15 Million (inclusive both) "
   ]
  },
  {
   "cell_type": "code",
   "execution_count": 27,
   "metadata": {},
   "outputs": [],
   "source": [
    "D1=sector_analysis[(sector_analysis['funding_round_type'] == 'venture') & (sector_analysis['country_code'] == 'USA') & ((sector_analysis['raised_amount_usd']>=5000000) & (sector_analysis['raised_amount_usd']<=15000000))].reset_index()\n",
    "D1.drop(columns='index',inplace=True)\n",
    "D1['sum_inv'] =D1.groupby(['main_sector']).raised_amount_usd.transform('sum')\n",
    "D1['cnt_inv'] =D1.groupby(['main_sector']).main_sector.transform('count')"
   ]
  },
  {
   "cell_type": "code",
   "execution_count": 28,
   "metadata": {},
   "outputs": [],
   "source": [
    "D2=sector_analysis[(sector_analysis['funding_round_type'] == 'venture') & (sector_analysis['country_code'] == 'GBR') & ((sector_analysis['raised_amount_usd']>=5000000) & (sector_analysis['raised_amount_usd']<=15000000))].reset_index()\n",
    "D2.drop(columns='index',inplace=True)\n",
    "D2['sum_inv'] =D2.groupby(['main_sector']).raised_amount_usd.transform('sum')\n",
    "D2['cnt_inv'] =D2.groupby(['main_sector']).main_sector.transform('count')"
   ]
  },
  {
   "cell_type": "code",
   "execution_count": 29,
   "metadata": {},
   "outputs": [],
   "source": [
    "D3=sector_analysis[(sector_analysis['funding_round_type'] == 'venture') & (sector_analysis['country_code'] == 'IND') & ((sector_analysis['raised_amount_usd']>=5000000) & (sector_analysis['raised_amount_usd']<=15000000))].reset_index()\n",
    "D3.drop(columns='index',inplace=True)\n",
    "D3['sum_inv'] =D3.groupby(['main_sector']).raised_amount_usd.transform('sum')\n",
    "D3['cnt_inv'] =D3.groupby(['main_sector']).main_sector.transform('count')"
   ]
  },
  {
   "cell_type": "markdown",
   "metadata": {},
   "source": [
    "Table 5.1"
   ]
  },
  {
   "cell_type": "code",
   "execution_count": 30,
   "metadata": {},
   "outputs": [
    {
     "data": {
      "text/html": [
       "<div>\n",
       "<style scoped>\n",
       "    .dataframe tbody tr th:only-of-type {\n",
       "        vertical-align: middle;\n",
       "    }\n",
       "\n",
       "    .dataframe tbody tr th {\n",
       "        vertical-align: top;\n",
       "    }\n",
       "\n",
       "    .dataframe thead th {\n",
       "        text-align: right;\n",
       "    }\n",
       "</style>\n",
       "<table border=\"1\" class=\"dataframe\">\n",
       "  <thead>\n",
       "    <tr style=\"text-align: right;\">\n",
       "      <th></th>\n",
       "      <th>country_code</th>\n",
       "      <th>main_sector</th>\n",
       "      <th>count</th>\n",
       "      <th>sum</th>\n",
       "    </tr>\n",
       "  </thead>\n",
       "  <tbody>\n",
       "    <tr>\n",
       "      <th>0</th>\n",
       "      <td>USA</td>\n",
       "      <td>Others</td>\n",
       "      <td>2950</td>\n",
       "      <td>2.632101e+10</td>\n",
       "    </tr>\n",
       "    <tr>\n",
       "      <th>1</th>\n",
       "      <td>USA</td>\n",
       "      <td>Social, Finance, Analytics, Advertising</td>\n",
       "      <td>2714</td>\n",
       "      <td>2.380738e+10</td>\n",
       "    </tr>\n",
       "    <tr>\n",
       "      <th>2</th>\n",
       "      <td>USA</td>\n",
       "      <td>Cleantech / Semiconductors</td>\n",
       "      <td>2300</td>\n",
       "      <td>2.120663e+10</td>\n",
       "    </tr>\n",
       "    <tr>\n",
       "      <th>3</th>\n",
       "      <td>USA</td>\n",
       "      <td>News, Search and Messaging</td>\n",
       "      <td>1582</td>\n",
       "      <td>1.395957e+10</td>\n",
       "    </tr>\n",
       "    <tr>\n",
       "      <th>4</th>\n",
       "      <td>USA</td>\n",
       "      <td>Health</td>\n",
       "      <td>909</td>\n",
       "      <td>8.211859e+09</td>\n",
       "    </tr>\n",
       "    <tr>\n",
       "      <th>5</th>\n",
       "      <td>USA</td>\n",
       "      <td>Manufacturing</td>\n",
       "      <td>799</td>\n",
       "      <td>7.258553e+09</td>\n",
       "    </tr>\n",
       "    <tr>\n",
       "      <th>6</th>\n",
       "      <td>USA</td>\n",
       "      <td>Entertainment</td>\n",
       "      <td>591</td>\n",
       "      <td>5.099198e+09</td>\n",
       "    </tr>\n",
       "    <tr>\n",
       "      <th>7</th>\n",
       "      <td>USA</td>\n",
       "      <td>Automotive &amp; Sports</td>\n",
       "      <td>167</td>\n",
       "      <td>1.454104e+09</td>\n",
       "    </tr>\n",
       "  </tbody>\n",
       "</table>\n",
       "</div>"
      ],
      "text/plain": [
       "  country_code                              main_sector  count           sum\n",
       "0          USA                                   Others   2950  2.632101e+10\n",
       "1          USA  Social, Finance, Analytics, Advertising   2714  2.380738e+10\n",
       "2          USA               Cleantech / Semiconductors   2300  2.120663e+10\n",
       "3          USA               News, Search and Messaging   1582  1.395957e+10\n",
       "4          USA                                   Health    909  8.211859e+09\n",
       "5          USA                            Manufacturing    799  7.258553e+09\n",
       "6          USA                            Entertainment    591  5.099198e+09\n",
       "7          USA                      Automotive & Sports    167  1.454104e+09"
      ]
     },
     "execution_count": 30,
     "metadata": {},
     "output_type": "execute_result"
    }
   ],
   "source": [
    "#Sorting all sectors by number of investments in each sector\n",
    "D1.groupby(['country_code','main_sector']).raised_amount_usd.agg(['count','sum']).sort_values(by='count',ascending=False).reset_index()"
   ]
  },
  {
   "cell_type": "code",
   "execution_count": 31,
   "metadata": {},
   "outputs": [
    {
     "data": {
      "text/plain": [
       "107318294664.0"
      ]
     },
     "execution_count": 31,
     "metadata": {},
     "output_type": "execute_result"
    }
   ],
   "source": [
    "D1['raised_amount_usd'].sum()"
   ]
  },
  {
   "cell_type": "code",
   "execution_count": 32,
   "metadata": {},
   "outputs": [
    {
     "data": {
      "text/plain": [
       "12012"
      ]
     },
     "execution_count": 32,
     "metadata": {},
     "output_type": "execute_result"
    }
   ],
   "source": [
    "D1['raised_amount_usd'].count()"
   ]
  },
  {
   "cell_type": "code",
   "execution_count": 33,
   "metadata": {},
   "outputs": [
    {
     "data": {
      "text/plain": [
       "company_permalink                  name               \n",
       "/organization/virtustream          Virtustream            64300000.0\n",
       "/organization/capella              Capella Photonics      54968051.0\n",
       "/organization/airtight-networks    AirTight Networks      54201907.0\n",
       "/organization/decarta              deCarta                52100000.0\n",
       "/organization/black-duck-software  Black Duck Software    51000000.0\n",
       "Name: raised_amount_usd, dtype: float64"
      ]
     },
     "execution_count": 33,
     "metadata": {},
     "output_type": "execute_result"
    }
   ],
   "source": [
    "D1[D1['main_sector']=='Others'].groupby(['company_permalink','name']).raised_amount_usd.sum().sort_values(ascending = False).head()\n"
   ]
  },
  {
   "cell_type": "code",
   "execution_count": 34,
   "metadata": {},
   "outputs": [
    {
     "data": {
      "text/plain": [
       "company_permalink          name                           \n",
       "/organization/shotspotter  SST Inc. (Formerly ShotSpotter)    67933006.0\n",
       "/organization/demandbase   Demandbase                         63000000.0\n",
       "/organization/intacct      Intacct                            61800000.0\n",
       "/organization/netbase      NetBase Solutions                  60600000.0\n",
       "/organization/lotame       Lotame                             59700000.0\n",
       "Name: raised_amount_usd, dtype: float64"
      ]
     },
     "execution_count": 34,
     "metadata": {},
     "output_type": "execute_result"
    }
   ],
   "source": [
    "D1[D1['main_sector']=='Social, Finance, Analytics, Advertising'].groupby(['company_permalink','name']).raised_amount_usd.sum().sort_values(ascending = False).head()"
   ]
  },
  {
   "cell_type": "code",
   "execution_count": 35,
   "metadata": {},
   "outputs": [
    {
     "data": {
      "text/html": [
       "<div>\n",
       "<style scoped>\n",
       "    .dataframe tbody tr th:only-of-type {\n",
       "        vertical-align: middle;\n",
       "    }\n",
       "\n",
       "    .dataframe tbody tr th {\n",
       "        vertical-align: top;\n",
       "    }\n",
       "\n",
       "    .dataframe thead th {\n",
       "        text-align: right;\n",
       "    }\n",
       "</style>\n",
       "<table border=\"1\" class=\"dataframe\">\n",
       "  <thead>\n",
       "    <tr style=\"text-align: right;\">\n",
       "      <th></th>\n",
       "      <th>country_code</th>\n",
       "      <th>main_sector</th>\n",
       "      <th>count</th>\n",
       "      <th>sum</th>\n",
       "    </tr>\n",
       "  </thead>\n",
       "  <tbody>\n",
       "    <tr>\n",
       "      <th>0</th>\n",
       "      <td>GBR</td>\n",
       "      <td>Others</td>\n",
       "      <td>147</td>\n",
       "      <td>1.283624e+09</td>\n",
       "    </tr>\n",
       "    <tr>\n",
       "      <th>1</th>\n",
       "      <td>GBR</td>\n",
       "      <td>Social, Finance, Analytics, Advertising</td>\n",
       "      <td>133</td>\n",
       "      <td>1.089404e+09</td>\n",
       "    </tr>\n",
       "    <tr>\n",
       "      <th>2</th>\n",
       "      <td>GBR</td>\n",
       "      <td>Cleantech / Semiconductors</td>\n",
       "      <td>128</td>\n",
       "      <td>1.150140e+09</td>\n",
       "    </tr>\n",
       "    <tr>\n",
       "      <th>3</th>\n",
       "      <td>GBR</td>\n",
       "      <td>News, Search and Messaging</td>\n",
       "      <td>73</td>\n",
       "      <td>6.157462e+08</td>\n",
       "    </tr>\n",
       "    <tr>\n",
       "      <th>4</th>\n",
       "      <td>GBR</td>\n",
       "      <td>Entertainment</td>\n",
       "      <td>56</td>\n",
       "      <td>4.827847e+08</td>\n",
       "    </tr>\n",
       "    <tr>\n",
       "      <th>5</th>\n",
       "      <td>GBR</td>\n",
       "      <td>Manufacturing</td>\n",
       "      <td>42</td>\n",
       "      <td>3.619403e+08</td>\n",
       "    </tr>\n",
       "    <tr>\n",
       "      <th>6</th>\n",
       "      <td>GBR</td>\n",
       "      <td>Health</td>\n",
       "      <td>24</td>\n",
       "      <td>2.145375e+08</td>\n",
       "    </tr>\n",
       "    <tr>\n",
       "      <th>7</th>\n",
       "      <td>GBR</td>\n",
       "      <td>Automotive &amp; Sports</td>\n",
       "      <td>16</td>\n",
       "      <td>1.670516e+08</td>\n",
       "    </tr>\n",
       "  </tbody>\n",
       "</table>\n",
       "</div>"
      ],
      "text/plain": [
       "  country_code                              main_sector  count           sum\n",
       "0          GBR                                   Others    147  1.283624e+09\n",
       "1          GBR  Social, Finance, Analytics, Advertising    133  1.089404e+09\n",
       "2          GBR               Cleantech / Semiconductors    128  1.150140e+09\n",
       "3          GBR               News, Search and Messaging     73  6.157462e+08\n",
       "4          GBR                            Entertainment     56  4.827847e+08\n",
       "5          GBR                            Manufacturing     42  3.619403e+08\n",
       "6          GBR                                   Health     24  2.145375e+08\n",
       "7          GBR                      Automotive & Sports     16  1.670516e+08"
      ]
     },
     "execution_count": 35,
     "metadata": {},
     "output_type": "execute_result"
    }
   ],
   "source": [
    "#Sorting all sectors by number of investments in each sector\n",
    "D2.groupby(['country_code','main_sector']).raised_amount_usd.agg(['count','sum']).sort_values(by='count',ascending=False).reset_index()"
   ]
  },
  {
   "cell_type": "code",
   "execution_count": 36,
   "metadata": {
    "scrolled": true
   },
   "outputs": [
    {
     "data": {
      "text/plain": [
       "619"
      ]
     },
     "execution_count": 36,
     "metadata": {},
     "output_type": "execute_result"
    }
   ],
   "source": [
    "D2['raised_amount_usd'].count()"
   ]
  },
  {
   "cell_type": "code",
   "execution_count": 37,
   "metadata": {},
   "outputs": [
    {
     "data": {
      "text/plain": [
       "5365228300.0"
      ]
     },
     "execution_count": 37,
     "metadata": {},
     "output_type": "execute_result"
    }
   ],
   "source": [
    "D2['raised_amount_usd'].sum()"
   ]
  },
  {
   "cell_type": "code",
   "execution_count": 38,
   "metadata": {},
   "outputs": [
    {
     "data": {
      "text/plain": [
       "company_permalink                      name                   \n",
       "/organization/electric-cloud           Electric Cloud             37000000.0\n",
       "/organization/sensage                  SenSage                    36250000.0\n",
       "/organization/enigmatic                Enigmatec                  32500000.0\n",
       "/organization/silverrail-technologies  SilverRail Technologies    29000000.0\n",
       "/organization/opencloud                OpenCloud                  27972766.0\n",
       "Name: raised_amount_usd, dtype: float64"
      ]
     },
     "execution_count": 38,
     "metadata": {},
     "output_type": "execute_result"
    }
   ],
   "source": [
    "D2[D2['main_sector']=='Others'].groupby(['company_permalink','name']).raised_amount_usd.sum().sort_values(ascending = False).head()"
   ]
  },
  {
   "cell_type": "code",
   "execution_count": 39,
   "metadata": {},
   "outputs": [
    {
     "data": {
      "text/plain": [
       "company_permalink                    name                 \n",
       "/organization/celltick-technologies  Celltick Technologies    37500000.0\n",
       "/organization/mythings               myThings                 34000000.0\n",
       "/organization/zopa                   Zopa                     32900000.0\n",
       "/organization/imagini                VisualDNA                28550000.0\n",
       "/organization/marketinvoice          MarketInvoice            25553007.0\n",
       "Name: raised_amount_usd, dtype: float64"
      ]
     },
     "execution_count": 39,
     "metadata": {},
     "output_type": "execute_result"
    }
   ],
   "source": [
    "D2[D2['main_sector']=='Social, Finance, Analytics, Advertising'].groupby(['company_permalink','name']).raised_amount_usd.sum().sort_values(ascending = False).head()"
   ]
  },
  {
   "cell_type": "code",
   "execution_count": 40,
   "metadata": {},
   "outputs": [
    {
     "data": {
      "text/html": [
       "<div>\n",
       "<style scoped>\n",
       "    .dataframe tbody tr th:only-of-type {\n",
       "        vertical-align: middle;\n",
       "    }\n",
       "\n",
       "    .dataframe tbody tr th {\n",
       "        vertical-align: top;\n",
       "    }\n",
       "\n",
       "    .dataframe thead th {\n",
       "        text-align: right;\n",
       "    }\n",
       "</style>\n",
       "<table border=\"1\" class=\"dataframe\">\n",
       "  <thead>\n",
       "    <tr style=\"text-align: right;\">\n",
       "      <th></th>\n",
       "      <th>country_code</th>\n",
       "      <th>main_sector</th>\n",
       "      <th>count</th>\n",
       "      <th>sum</th>\n",
       "    </tr>\n",
       "  </thead>\n",
       "  <tbody>\n",
       "    <tr>\n",
       "      <th>0</th>\n",
       "      <td>IND</td>\n",
       "      <td>Others</td>\n",
       "      <td>110</td>\n",
       "      <td>1.013410e+09</td>\n",
       "    </tr>\n",
       "    <tr>\n",
       "      <th>1</th>\n",
       "      <td>IND</td>\n",
       "      <td>Social, Finance, Analytics, Advertising</td>\n",
       "      <td>60</td>\n",
       "      <td>5.505496e+08</td>\n",
       "    </tr>\n",
       "    <tr>\n",
       "      <th>2</th>\n",
       "      <td>IND</td>\n",
       "      <td>News, Search and Messaging</td>\n",
       "      <td>52</td>\n",
       "      <td>4.338345e+08</td>\n",
       "    </tr>\n",
       "    <tr>\n",
       "      <th>3</th>\n",
       "      <td>IND</td>\n",
       "      <td>Entertainment</td>\n",
       "      <td>33</td>\n",
       "      <td>2.808300e+08</td>\n",
       "    </tr>\n",
       "    <tr>\n",
       "      <th>4</th>\n",
       "      <td>IND</td>\n",
       "      <td>Manufacturing</td>\n",
       "      <td>21</td>\n",
       "      <td>2.009000e+08</td>\n",
       "    </tr>\n",
       "    <tr>\n",
       "      <th>5</th>\n",
       "      <td>IND</td>\n",
       "      <td>Cleantech / Semiconductors</td>\n",
       "      <td>20</td>\n",
       "      <td>1.653800e+08</td>\n",
       "    </tr>\n",
       "    <tr>\n",
       "      <th>6</th>\n",
       "      <td>IND</td>\n",
       "      <td>Health</td>\n",
       "      <td>19</td>\n",
       "      <td>1.677400e+08</td>\n",
       "    </tr>\n",
       "    <tr>\n",
       "      <th>7</th>\n",
       "      <td>IND</td>\n",
       "      <td>Automotive &amp; Sports</td>\n",
       "      <td>13</td>\n",
       "      <td>1.369000e+08</td>\n",
       "    </tr>\n",
       "  </tbody>\n",
       "</table>\n",
       "</div>"
      ],
      "text/plain": [
       "  country_code                              main_sector  count           sum\n",
       "0          IND                                   Others    110  1.013410e+09\n",
       "1          IND  Social, Finance, Analytics, Advertising     60  5.505496e+08\n",
       "2          IND               News, Search and Messaging     52  4.338345e+08\n",
       "3          IND                            Entertainment     33  2.808300e+08\n",
       "4          IND                            Manufacturing     21  2.009000e+08\n",
       "5          IND               Cleantech / Semiconductors     20  1.653800e+08\n",
       "6          IND                                   Health     19  1.677400e+08\n",
       "7          IND                      Automotive & Sports     13  1.369000e+08"
      ]
     },
     "execution_count": 40,
     "metadata": {},
     "output_type": "execute_result"
    }
   ],
   "source": [
    "#Sorting all sectors by number of investments in each sector\n",
    "D3.groupby(['country_code','main_sector']).raised_amount_usd.agg(['count','sum']).sort_values(by='count',ascending=False).reset_index()"
   ]
  },
  {
   "cell_type": "code",
   "execution_count": 41,
   "metadata": {},
   "outputs": [
    {
     "data": {
      "text/plain": [
       "328"
      ]
     },
     "execution_count": 41,
     "metadata": {},
     "output_type": "execute_result"
    }
   ],
   "source": [
    "D3['raised_amount_usd'].count()"
   ]
  },
  {
   "cell_type": "code",
   "execution_count": 42,
   "metadata": {},
   "outputs": [
    {
     "data": {
      "text/plain": [
       "2949543602.0"
      ]
     },
     "execution_count": 42,
     "metadata": {},
     "output_type": "execute_result"
    }
   ],
   "source": [
    "D3['raised_amount_usd'].sum()"
   ]
  },
  {
   "cell_type": "code",
   "execution_count": 43,
   "metadata": {},
   "outputs": [
    {
     "data": {
      "text/plain": [
       "company_permalink               name             \n",
       "/organization/firstcry-com      FirstCry.com         39000000.0\n",
       "/organization/myntra            Myntra               38000000.0\n",
       "/organization/commonfloor       CommonFloor          32900000.0\n",
       "/organization/pepperfry-com     Pepperfry.com        28000000.0\n",
       "/organization/itzcash-card-ltd  ItzCash Card Ltd.    25000000.0\n",
       "Name: raised_amount_usd, dtype: float64"
      ]
     },
     "execution_count": 43,
     "metadata": {},
     "output_type": "execute_result"
    }
   ],
   "source": [
    "D3[D3['main_sector']=='Others'].groupby(['company_permalink','name']).raised_amount_usd.sum().sort_values(ascending = False).head()"
   ]
  },
  {
   "cell_type": "code",
   "execution_count": 44,
   "metadata": {},
   "outputs": [
    {
     "data": {
      "text/plain": [
       "company_permalink                         name                      \n",
       "/organization/manthan-systems             Manthan Systems               50700000.0\n",
       "/organization/komli-media                 Komli Media                   28000000.0\n",
       "/organization/shopclues-com               ShopClues.com                 25000000.0\n",
       "/organization/intarvo                     inTarvo                       21900000.0\n",
       "/organization/grameen-financial-services  Grameen Financial Services    21556050.0\n",
       "Name: raised_amount_usd, dtype: float64"
      ]
     },
     "execution_count": 44,
     "metadata": {},
     "output_type": "execute_result"
    }
   ],
   "source": [
    "D3[D3['main_sector']=='Social, Finance, Analytics, Advertising'].groupby(['company_permalink','name']).raised_amount_usd.sum().sort_values(ascending = False).head()"
   ]
  },
  {
   "cell_type": "markdown",
   "metadata": {},
   "source": [
    "CHECKPOINT 6"
   ]
  },
  {
   "cell_type": "code",
   "execution_count": 45,
   "metadata": {},
   "outputs": [],
   "source": [
    "#Plotting graphs to visualise results of Funding analysis, country analysis & Sector_analysis"
   ]
  },
  {
   "cell_type": "code",
   "execution_count": 46,
   "metadata": {},
   "outputs": [
    {
     "data": {
      "image/png": "[encoded data removed]",
      "text/plain": [
       "<Figure size 1440x720 with 2 Axes>"
      ]
     },
     "metadata": {},
     "output_type": "display_data"
    }
   ],
   "source": [
    "plt.figure(figsize=(20, 10))\n",
    "\n",
    "# subplot 1: Total Investments\n",
    "df_chrt=master_frame[master_frame['funding_round_type'].isin(['venture', 'seed', 'private_equity'])].pivot_table(values = 'raised_amount_usd',index = ['funding_round_type'], aggfunc = {'sum'})\n",
    "plt.subplot(1, 2, 1)\n",
    "plt.pie(df_chrt, labels=df_chrt.index,autopct='%0.1f%%',radius =1)\n",
    "plt.title(\"Fraction of Total Investment\")\n",
    "plt.savefig('tot_ivst.png')\n",
    "\n",
    "# subplot 1: Average amount of Investments\n",
    "plt.subplot(1, 2, 2)\n",
    "sns.barplot(x='funding_round_type', y='raised_amount_usd', data=master_frame[master_frame['funding_round_type'].isin(['venture', 'seed', 'private_equity'])])\n",
    "plt.axhline(y=5000000, linewidth=2, color = 'r', label=\"$5MM\")\n",
    "plt.axhline(y=15000000, linewidth=2, color = 'r', label=\"$15MM\")\n",
    "plt.title(\"Average Amount of Investments\")\n",
    "plt.savefig('avg_amt.png')\n"
   ]
  },
  {
   "cell_type": "code",
   "execution_count": 47,
   "metadata": {},
   "outputs": [
    {
     "data": {
      "image/png": "[encoded data removed]",
      "text/plain": [
       "<Figure size 432x288 with 1 Axes>"
      ]
     },
     "metadata": {},
     "output_type": "display_data"
    }
   ],
   "source": [
    "top9.plot.bar(x='country_code', y='raised_amount_usd')\n",
    "plt.title(\"Top 9 Countries by Total Investment in Venture type funding\")\n",
    "plt.savefig('top9.png')"
   ]
  },
  {
   "cell_type": "code",
   "execution_count": 48,
   "metadata": {},
   "outputs": [
    {
     "data": {
      "image/png": "[encoded data removed]",
      "text/plain": [
       "<Figure size 720x720 with 1 Axes>"
      ]
     },
     "metadata": {},
     "output_type": "display_data"
    }
   ],
   "source": [
    "d1 = D1[D1['main_sector'].isin([\"Others\",\"Social, Finance, Analytics, Advertising\",\"Cleantech / Semiconductors\"])]\n",
    "d2 = D2[D2['main_sector'].isin([\"Others\",\"Social, Finance, Analytics, Advertising\",\"Cleantech / Semiconductors\"])]\n",
    "d3 = D3[D3['main_sector'].isin([\"Others\",\"Social, Finance, Analytics, Advertising\",\"News, Search and Messaging\"])]\n",
    "df = pd.concat([d1,d2,d3])\n",
    "plt.figure(figsize=(10, 10))\n",
    "sns.countplot(x='country_code', hue=\"main_sector\", data=df)\n",
    "plt.title(\"Number of Investments in the top 3 sectors of the top 3 countries \")\n",
    "plt.savefig('inv_main_sec_cont.png')\n"
   ]
  },
  {
   "cell_type": "markdown",
   "metadata": {},
   "source": [
    "End of Program"
   ]
  }
 ],
 "metadata": {
  "kernelspec": {
   "display_name": "Python 3",
   "language": "python",
   "name": "python3"
  },
  "language_info": {
   "codemirror_mode": {
    "name": "ipython",
    "version": 3
   },
   "file_extension": ".py",
   "mimetype": "text/x-python",
   "name": "python",
   "nbconvert_exporter": "python",
   "pygments_lexer": "ipython3",
   "version": "3.6.5"
  }
 },
 "nbformat": 4,
 "nbformat_minor": 2
}
